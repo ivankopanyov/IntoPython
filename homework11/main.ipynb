{
  "cells": [
    {
      "cell_type": "markdown",
      "source": [
        "f(x) = 18x^3 + 5x^2 + 10x - 30\n",
        "\n",
        "1. Определить корни\n",
        "2. Найти интервалы, на которых функция возрастает\n",
        "3. Найти интервалы, на которых функция убывает\n",
        "4. Построить график\n",
        "5. Определить промежутки, на котором f > 0\n",
        "6. Определить промежутки, на котором f < 0\n",
        "\n",
        "\n",
        "\n",
        "\n",
        "\n",
        "\n",
        "\n",
        "\n",
        "\n",
        "\n",
        "\n",
        "\n",
        "\n",
        "\n",
        "\n",
        "\n",
        "\n",
        "\n",
        "\n",
        "\n",
        "\n",
        "\n",
        "\n",
        "\n",
        "\n",
        "\n",
        "\n",
        "\n",
        "\n",
        "\n",
        "```\n"
      ],
      "metadata": {
        "id": "H_2uE6C7ckLa"
      },
      "id": "H_2uE6C7ckLa"
    },
    {
      "cell_type": "code",
      "source": [
        "from sympy import *\n",
        "\n",
        "a, b, c, d = 18, 5, 10, 30\n",
        "x = Symbol('x', domain=S.Reals)\n",
        "\n",
        "fx =  18 * x ** 3 + 5 * x ** 2 + 10 * x - 30\n",
        "fx\n"
      ],
      "metadata": {
        "colab": {
          "base_uri": "https://localhost:8080/",
          "height": 38
        },
        "id": "WK9BQkeJbKyW",
        "outputId": "2a958d22-81f3-484b-81f6-9c9103e3b61a"
      },
      "id": "WK9BQkeJbKyW",
      "execution_count": 47,
      "outputs": [
        {
          "output_type": "execute_result",
          "data": {
            "text/plain": [
              "    3      2            \n",
              "18⋅x  + 5⋅x  + 10⋅x - 30"
            ],
            "image/png": "[encoded data removed]",
            "text/latex": "$\\displaystyle 18 x^{3} + 5 x^{2} + 10 x - 30$"
          },
          "metadata": {},
          "execution_count": 47
        }
      ]
    },
    {
      "cell_type": "code",
      "source": [
        "# 1. Определить корни\n",
        "\n",
        "# Функция имеет один действительный корень\n",
        "solveset(fx, x, Interval(-10, 10))"
      ],
      "metadata": {
        "colab": {
          "base_uri": "https://localhost:8080/",
          "height": 82
        },
        "id": "EgDuS5pgbrE-",
        "outputId": "e1b7b6a3-f90a-4273-a06f-07f0ab0c4b11"
      },
      "id": "EgDuS5pgbrE-",
      "execution_count": 48,
      "outputs": [
        {
          "output_type": "execute_result",
          "data": {
            "text/plain": [
              "⎧                                           ____________________⎫\n",
              "⎪               515                5       ╱ 135145   5⋅√252411 ⎪\n",
              "⎪- ───────────────────────────── - ── + 3 ╱  ────── + ───────── ⎪\n",
              "⎨           ____________________   54   ╲╱   157464      2916   ⎬\n",
              "⎪          ╱ 135145   5⋅√252411                                 ⎪\n",
              "⎪  2916⋅3 ╱  ────── + ─────────                                 ⎪\n",
              "⎩       ╲╱   157464      2916                                   ⎭"
            ],
            "image/png": "[encoded data removed]",
            "text/latex": "$\\displaystyle \\left\\{- \\frac{515}{2916 \\sqrt[3]{\\frac{135145}{157464} + \\frac{5 \\sqrt{252411}}{2916}}} - \\frac{5}{54} + \\sqrt[3]{\\frac{135145}{157464} + \\frac{5 \\sqrt{252411}}{2916}}\\right\\}$"
          },
          "metadata": {},
          "execution_count": 48
        }
      ]
    },
    {
      "cell_type": "code",
      "source": [
        "# Производная функции\n",
        "F = fx.diff(x)\n",
        "print(F)\n",
        "\n",
        "# Производная функуции не имеет корней.\n",
        "res = solveset(F, x, Interval(-10, 10)) \n",
        "res"
      ],
      "metadata": {
        "colab": {
          "base_uri": "https://localhost:8080/",
          "height": 55
        },
        "id": "NIQ8iiBTo9dU",
        "outputId": "6877716c-627a-4025-eb3f-4bff4eab6042"
      },
      "id": "NIQ8iiBTo9dU",
      "execution_count": 50,
      "outputs": [
        {
          "output_type": "stream",
          "name": "stdout",
          "text": [
            "54*x**2 + 10*x + 10\n"
          ]
        },
        {
          "output_type": "execute_result",
          "data": {
            "text/plain": [
              "∅"
            ],
            "image/png": "[encoded data removed]",
            "text/latex": "$\\displaystyle \\emptyset$"
          },
          "metadata": {},
          "execution_count": 50
        }
      ]
    },
    {
      "cell_type": "code",
      "source": [
        "# 2. Найти интернвалы, на которых функция возрастает\n",
        "\n",
        "# Функция постоянно возрастает.\n",
        "solve_univariate_inequality(fx > fx -1, x)"
      ],
      "metadata": {
        "colab": {
          "base_uri": "https://localhost:8080/",
          "height": 38
        },
        "id": "848FRUnYdYh_",
        "outputId": "389e0e5f-624b-4f6e-b7ca-743309f7715e"
      },
      "id": "848FRUnYdYh_",
      "execution_count": 51,
      "outputs": [
        {
          "output_type": "execute_result",
          "data": {
            "text/plain": [
              "-∞ < x ∧ x < ∞"
            ],
            "image/png": "[encoded data removed]",
            "text/latex": "$\\displaystyle -\\infty < x \\wedge x < \\infty$"
          },
          "metadata": {},
          "execution_count": 51
        }
      ]
    },
    {
      "cell_type": "code",
      "source": [
        "# 3. Найти интернвалы, на которых функция убывает\n",
        "\n",
        "# Функция не имеет промежутков убывания.\n",
        "solve_univariate_inequality(fx < fx -1, x)\n"
      ],
      "metadata": {
        "id": "bI1eIUHddqyr",
        "colab": {
          "base_uri": "https://localhost:8080/",
          "height": 37
        },
        "outputId": "6441dcb3-0076-48b1-ce90-593615caca5e"
      },
      "id": "bI1eIUHddqyr",
      "execution_count": 52,
      "outputs": [
        {
          "output_type": "execute_result",
          "data": {
            "text/plain": [
              "False"
            ],
            "text/latex": "$\\displaystyle \\text{False}$"
          },
          "metadata": {},
          "execution_count": 52
        }
      ]
    },
    {
      "cell_type": "code",
      "source": [
        "# 4. Построить график\n",
        "\n",
        "plot(fx)"
      ],
      "metadata": {
        "colab": {
          "base_uri": "https://localhost:8080/",
          "height": 314
        },
        "id": "qy2-boEzbyTy",
        "outputId": "acca6576-6bea-4ea8-a637-44441c3feeb6"
      },
      "id": "qy2-boEzbyTy",
      "execution_count": 53,
      "outputs": [
        {
          "output_type": "display_data",
          "data": {
            "text/plain": [
              "<Figure size 432x288 with 1 Axes>"
            ],
            "image/png": "[encoded data removed]"
          },
          "metadata": {
            "needs_background": "light"
          }
        },
        {
          "output_type": "execute_result",
          "data": {
            "text/plain": [
              "<sympy.plotting.plot.Plot at 0x7f1baf485410>"
            ]
          },
          "metadata": {},
          "execution_count": 53
        }
      ]
    },
    {
      "cell_type": "code",
      "source": [
        "# 5. Определить промежутки, на котором f > 0\n",
        "\n",
        "solve_univariate_inequality(fx > 0, x)"
      ],
      "metadata": {
        "colab": {
          "base_uri": "https://localhost:8080/",
          "height": 82
        },
        "id": "DiVQWoeAdzc2",
        "outputId": "2eac88e1-18cb-4627-fa3a-07f4a614c534"
      },
      "id": "DiVQWoeAdzc2",
      "execution_count": 54,
      "outputs": [
        {
          "output_type": "execute_result",
          "data": {
            "text/plain": [
              "                                                   ____________________    \n",
              "                       515                5       ╱ 135145   5⋅√252411     \n",
              "x < ∞ ∧ - ───────────────────────────── - ── + 3 ╱  ────── + ─────────  < x\n",
              "                   ____________________   54   ╲╱   157464      2916       \n",
              "                  ╱ 135145   5⋅√252411                                     \n",
              "          2916⋅3 ╱  ────── + ─────────                                     \n",
              "               ╲╱   157464      2916                                       "
            ],
            "image/png": "[encoded data removed]",
            "text/latex": "$\\displaystyle x < \\infty \\wedge - \\frac{515}{2916 \\sqrt[3]{\\frac{135145}{157464} + \\frac{5 \\sqrt{252411}}{2916}}} - \\frac{5}{54} + \\sqrt[3]{\\frac{135145}{157464} + \\frac{5 \\sqrt{252411}}{2916}} < x$"
          },
          "metadata": {},
          "execution_count": 54
        }
      ]
    },
    {
      "cell_type": "code",
      "source": [
        "# 6. Определить промежутки, на котором f < 0\n",
        "\n",
        "solve_univariate_inequality(fx < 0, x)"
      ],
      "metadata": {
        "colab": {
          "base_uri": "https://localhost:8080/",
          "height": 82
        },
        "id": "DHrE75M6d2BS",
        "outputId": "a0ba293f-80d9-415c-9b32-7d07651d281a"
      },
      "id": "DHrE75M6d2BS",
      "execution_count": 55,
      "outputs": [
        {
          "output_type": "execute_result",
          "data": {
            "text/plain": [
              "                                                        ____________________\n",
              "                            515                5       ╱ 135145   5⋅√252411 \n",
              "-∞ < x ∧ x < - ───────────────────────────── - ── + 3 ╱  ────── + ───────── \n",
              "                        ____________________   54   ╲╱   157464      2916   \n",
              "                       ╱ 135145   5⋅√252411                                 \n",
              "               2916⋅3 ╱  ────── + ─────────                                 \n",
              "                    ╲╱   157464      2916                                   "
            ],
            "image/png": "[encoded data removed]",
            "text/latex": "$\\displaystyle -\\infty < x \\wedge x < - \\frac{515}{2916 \\sqrt[3]{\\frac{135145}{157464} + \\frac{5 \\sqrt{252411}}{2916}}} - \\frac{5}{54} + \\sqrt[3]{\\frac{135145}{157464} + \\frac{5 \\sqrt{252411}}{2916}}$"
          },
          "metadata": {},
          "execution_count": 55
        }
      ]
    }
  ],
  "metadata": {
    "celltoolbar": "Необработанный формат ячейки",
    "kernelspec": {
      "display_name": "Python 3 (ipykernel)",
      "language": "python",
      "name": "python3"
    },
    "language_info": {
      "codemirror_mode": {
        "name": "ipython",
        "version": 3
      },
      "file_extension": ".py",
      "mimetype": "text/x-python",
      "name": "python",
      "nbconvert_exporter": "python",
      "pygments_lexer": "ipython3",
      "version": "3.9.7"
    },
    "colab": {
      "provenance": [],
      "collapsed_sections": []
    }
  },
  "nbformat": 4,
  "nbformat_minor": 5
}